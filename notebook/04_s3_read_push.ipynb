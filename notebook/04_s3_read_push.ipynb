{
 "cells": [
  {
   "cell_type": "code",
   "execution_count": 1,
   "metadata": {},
   "outputs": [],
   "source": [
    "import boto3\n",
    "from datetime import datetime\n",
    "\n",
    "def s3_uploader(selection = 'raw', bucket = \"tkh-nyc-energy\"):\n",
    "    current_date = datetime.now().strftime(\"%m%d%Y\")\n",
    "\n",
    "    if selection == 'raw':\n",
    "        local_file = '../data/raw/Electric_Consumption_And_Cost__2010_-_Feb_2023__20240417.csv'\n",
    "        name_s3_file = f\"energy_raw_{current_date}.csv\"\n",
    "        s3 = boto3.resource('s3')\n",
    "        s3.meta.client.upload_file(local_file, bucket, name_s3_file)\n",
    "        print(f\"Successfully uploaded {local_file} to {bucket}/{name_s3_file}\")\n",
    "        \n",
    "    elif selection == 'cleaned':\n",
    "        local_file = '../data/processed/energy_clean.csv'\n",
    "        name_s3_file = f\"energy_cleaned_{current_date}.csv\"\n",
    "        s3 = boto3.resource('s3')\n",
    "        s3.meta.client.upload_file(local_file, bucket, name_s3_file)\n",
    "        print(f\"Successfully uploaded {local_file} to {bucket}/{name_s3_file}\")\n",
    "    else:\n",
    "        print(f\"Invalid selection: {selection}\")\n",
    "        return False \n"
   ]
  },
  {
   "cell_type": "code",
   "execution_count": null,
   "metadata": {},
   "outputs": [],
   "source": [
    "s3_uploader(selection = 'raw', bucket = \"tkh-nyc-energy\")"
   ]
  }
 ],
 "metadata": {
  "kernelspec": {
   "display_name": "venv",
   "language": "python",
   "name": "python3"
  },
  "language_info": {
   "codemirror_mode": {
    "name": "ipython",
    "version": 3
   },
   "file_extension": ".py",
   "mimetype": "text/x-python",
   "name": "python",
   "nbconvert_exporter": "python",
   "pygments_lexer": "ipython3",
   "version": "3.11.5"
  }
 },
 "nbformat": 4,
 "nbformat_minor": 2
}
